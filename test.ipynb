{
 "cells": [
  {
   "cell_type": "markdown",
   "metadata": {},
   "source": [
    "# 预测"
   ]
  },
  {
   "cell_type": "code",
   "execution_count": 1,
   "metadata": {},
   "outputs": [
    {
     "name": "stderr",
     "output_type": "stream",
     "text": [
      "Using TensorFlow backend.\n"
     ]
    }
   ],
   "source": [
    "from __future__ import division\n",
    "import os\n",
    "import cv2\n",
    "import numpy as np\n",
    "import sys\n",
    "import pickle\n",
    "from keras_frcnn import config\n",
    "from keras import backend as K\n",
    "from keras.layers import Input\n",
    "from keras.models import Model\n",
    "from keras_frcnn import network_aux_roi\n",
    "from keras.backend.tensorflow_backend import set_session\n",
    "import tensorflow as tf\n",
    "from matplotlib import pyplot as plt\n",
    "import keras_frcnn.network_model_vgg as nn\n",
    "from keras_frcnn.result_display import Display\n",
    "from keras_frcnn.data_process import Process\n",
    "#GPU占用设置\n",
    "os.environ[\"CUDA_VISIBLE_DEVICES\"] = \"0\"\n",
    "con = tf.ConfigProto()\n",
    "con.gpu_options.per_process_gpu_memory_fraction = 0.4\n",
    "set_session(tf.Session(config=con))\n",
    "sys.setrecursionlimit(40000)\n",
    "\n",
    "#预测数据路径\n",
    "img_path = './test/'\n",
    "num_rois=32\n",
    "config_output_filename = 'config.pickle'\n",
    "with open(config_output_filename, 'rb') as f_in:\n",
    "    C = pickle.load(f_in)"
   ]
  },
  {
   "cell_type": "markdown",
   "metadata": {},
   "source": [
    "## 图像预处理"
   ]
  },
  {
   "cell_type": "code",
   "execution_count": 2,
   "metadata": {},
   "outputs": [],
   "source": [
    "# 读取图片\n",
    "filepath = 'test/fe402625-3f99-3755-84b5-9b9ca9696706.jpg'\n",
    "img = cv2.imread(filepath)\n",
    "img_process = Process(img, C) \n",
    "X, ratio = img_process.format_img()"
   ]
  },
  {
   "cell_type": "markdown",
   "metadata": {
    "collapsed": true
   },
   "source": [
    "## 网络结构\n",
    "以VGG为例\n",
    "\n",
    "\n",
    "VGG\n",
    "\n",
    "shared_layers = nn.nn_base(img_input, trainable=True)   \n",
    "\n",
    "RPN\n",
    "\n",
    "rpn_layers = nn.rpn(shared_layers, num_anchors)   \n",
    "\n",
    "\n",
    "R-CNN\n",
    "\n",
    "classifier = nn.classifier(feature_map_input, roi_input, C.num_rois, nb_classes=len(class_mapping), trainable=True)   \n",
    "\n",
    "VGG+RPN\n",
    "\n",
    "model_rpn = Model(img_input, rpn_layers)     \n",
    "\n",
    "VGG+Fast R-CNN\n",
    "\n",
    "model_classifier = Model([feature_map_input, roi_input], classifier)   \n",
    "\n",
    "\n"
   ]
  },
  {
   "cell_type": "code",
   "execution_count": 3,
   "metadata": {},
   "outputs": [
    {
     "name": "stdout",
     "output_type": "stream",
     "text": [
      "Loading weights from ./model_frcnn.hdf5\n"
     ]
    }
   ],
   "source": [
    "#class_mapping中是所有类别的名称\n",
    "class_mapping = C.class_mapping\n",
    "class_mapping = {v: k for k, v in class_mapping.items()}\n",
    "K.set_learning_phase(0)\n",
    "\n",
    "# 输入\n",
    "num_features = 512\n",
    "input_shape_img = (None, None, 3)\n",
    "input_shape_features = (None, None, num_features)\n",
    "\n",
    "img_input = Input(shape=input_shape_img)\n",
    "roi_input = Input(shape=(num_rois, 4))\n",
    "feature_map_input = Input(shape=input_shape_features)\n",
    "\n",
    "# 基础网络\n",
    "shared_layers = nn.nn_base(img_input, trainable=True)\n",
    "\n",
    "# RPN\n",
    "num_anchors = len(C.anchor_box_scales) * len(C.anchor_box_ratios)\n",
    "rpn_layers = nn.rpn(shared_layers, num_anchors)\n",
    "\n",
    "classifier = nn.classifier(feature_map_input, roi_input, C.num_rois, nb_classes=len(class_mapping), trainable=True)\n",
    "\n",
    "model_rpn = Model(img_input, rpn_layers)\n",
    "model_classifier = Model([feature_map_input, roi_input], classifier)\n",
    "\n",
    "#加载权值\n",
    "print('Loading weights from {}'.format(C.model_path))\n",
    "model_rpn.load_weights(C.model_path, by_name=True)\n",
    "model_classifier.load_weights(C.model_path, by_name=True)"
   ]
  },
  {
   "cell_type": "markdown",
   "metadata": {
    "collapsed": true
   },
   "source": [
    "## 预测\n",
    "### 1. 提取候选区域"
   ]
  },
  {
   "cell_type": "code",
   "execution_count": 4,
   "metadata": {
    "scrolled": false
   },
   "outputs": [
    {
     "name": "stderr",
     "output_type": "stream",
     "text": [
      "/opt/anaconda2-4.4.0/lib/python2.7/site-packages/Keras-2.0.4-py2.7.egg/keras/backend/tensorflow_backend.py:2252: UserWarning: Expected no kwargs, you passed 1\n",
      "kwargs passed to function are ignored with Tensorflow backend\n",
      "  warnings.warn('\\n'.join(msg))\n"
     ]
    }
   ],
   "source": [
    "bbox_threshold = 0.8\n",
    "\n",
    "classes = {}\n",
    "# 得到RPN的输出（类别分数，偏移值）以及特征图\n",
    "[Y1, Y2, F] = model_rpn.predict(X)\n",
    "# 处理RPN预测出来的坐标，[tx,ty,tw,th]->[x1, y1, x2, y2]（相对原图坐标），去掉出界的框,nms\n",
    "R = network_aux_roi.rpn_to_roi(Y1, Y2, C, K.image_dim_ordering(), overlap_thresh=0.7)\n",
    "# R.shape (300, 4) ，假设一共预测出300个box\n",
    "    \n",
    "# (x1,y1,x2,y2) -> (x,y,w,h)\n",
    "R[:, 2] -= R[:, 0]\n",
    "R[:, 3] -= R[:, 1]"
   ]
  },
  {
   "cell_type": "markdown",
   "metadata": {},
   "source": [
    "### 2. 在候选区域上预测"
   ]
  },
  {
   "cell_type": "code",
   "execution_count": 5,
   "metadata": {},
   "outputs": [],
   "source": [
    "bboxes = {}\n",
    "probs = {}\n",
    "\n",
    "#我们按顺序选择提取其中32个作为roi进一步处理\n",
    "for jk in range(R.shape[0]//C.num_rois + 1):\n",
    "    ROIs = np.expand_dims(R[C.num_rois*jk:C.num_rois*(jk+1), :], axis=0)\n",
    "    if ROIs.shape[1] == 0:\n",
    "        break\n",
    "    # 如果最后一批数量不足32，补0\n",
    "    if jk == R.shape[0]//C.num_rois:\n",
    "        curr_shape = ROIs.shape\n",
    "        target_shape = (curr_shape[0],C.num_rois,curr_shape[2])\n",
    "        ROIs_padded = np.zeros(target_shape).astype(ROIs.dtype)\n",
    "        ROIs_padded[:, :curr_shape[1], :] = ROIs\n",
    "        ROIs_padded[0, curr_shape[1]:, :] = ROIs[0, 0, :]\n",
    "        ROIs = ROIs_padded\n",
    "        \n",
    "    #假设roi数量为32，预测类别和回归值(1, 32, 2),(1, 32, 4)，输入F特征图以及32个ROIs\n",
    "    [P_cls, P_regr] = model_classifier.predict([F, ROIs])\n",
    "    for ii in range(P_cls.shape[1]):\n",
    "        # 如果类别分数最大的都小于阈值或者最后一个背景类是分数最大的box,跳出循环\n",
    "        if np.max(P_cls[0, ii, :]) < bbox_threshold or np.argmax(P_cls[0, ii, :]) == (P_cls.shape[2] - 1):\n",
    "            continue\n",
    "        # 得到分数最高类别的名称\n",
    "        cls_name = class_mapping[np.argmax(P_cls[0, ii, :])]\n",
    "        # 如果类别还没有在bboxes中，初始化此类坐标和概率列表\n",
    "        if cls_name not in bboxes:\n",
    "            bboxes[cls_name] = []\n",
    "            probs[cls_name] = []\n",
    "        # 得到ROI的坐标\n",
    "        (x, y, w, h) = ROIs[0, ii, :]\n",
    "        # 得到分数最大的类别的偏移值，通过计算得到最终坐标\n",
    "        cls_num = np.argmax(P_cls[0, ii, :])\n",
    "        try:\n",
    "            (tx, ty, tw, th) = P_regr[0, ii, 4*cls_num:4*(cls_num+1)]\n",
    "            tx /= C.classifier_regr_std[0]\n",
    "            ty /= C.classifier_regr_std[1]\n",
    "            tw /= C.classifier_regr_std[2]\n",
    "            th /= C.classifier_regr_std[3]\n",
    "            x, y, w, h = roi_helpers.apply_regr(x, y, w, h, tx, ty, tw, th)\n",
    "        except:\n",
    "            pass\n",
    "        # 将类别坐标以及概率加入列表\n",
    "        bboxes[cls_name].append([C.rpn_stride*x, C.rpn_stride*y, C.rpn_stride*(x+w), C.rpn_stride*(y+h)])\n",
    "        probs[cls_name].append(np.max(P_cls[0, ii, :]))"
   ]
  },
  {
   "cell_type": "markdown",
   "metadata": {},
   "source": [
    "### 3.输出\n",
    "整理检测目标的类别，坐标，概率，并画出预测框"
   ]
  },
  {
   "cell_type": "code",
   "execution_count": 6,
   "metadata": {
    "scrolled": false
   },
   "outputs": [
    {
     "name": "stdout",
     "output_type": "stream",
     "text": [
      "[('hat', [230, 575, 604, 835], 99.995064735412598), ('hat', [287, 345, 489, 489], 99.963974952697754), ('hat', [575, 287, 719, 374], 99.842333793640137), ('hat', [259, 230, 374, 316], 99.760580062866211), ('hat', [950, 345, 1151, 489], 99.675744771957397), ('hat', [431, 115, 518, 172], 99.542361497879028), ('hat', [0, 0, 86, 86], 89.802491664886475)]\n"
     ]
    }
   ],
   "source": [
    "display = Display(bboxes,probs,ratio)\n",
    "# 打印结果\n",
    "display.result()\n",
    "# 画框\n",
    "display.draw(C,img)"
   ]
  },
  {
   "cell_type": "code",
   "execution_count": null,
   "metadata": {
    "collapsed": true
   },
   "outputs": [],
   "source": []
  }
 ],
 "metadata": {
  "kernelspec": {
   "display_name": "Python 2",
   "language": "python",
   "name": "python2"
  },
  "language_info": {
   "codemirror_mode": {
    "name": "ipython",
    "version": 2
   },
   "file_extension": ".py",
   "mimetype": "text/x-python",
   "name": "python",
   "nbconvert_exporter": "python",
   "pygments_lexer": "ipython2",
   "version": "2.7.13"
  }
 },
 "nbformat": 4,
 "nbformat_minor": 2
}
